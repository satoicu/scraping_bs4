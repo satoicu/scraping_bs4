{
  "nbformat": 4,
  "nbformat_minor": 0,
  "metadata": {
    "colab": {
      "provenance": [],
      "authorship_tag": "ABX9TyO3sQabnK1211pGMX57mwuM",
      "include_colab_link": true
    },
    "kernelspec": {
      "name": "python3",
      "display_name": "Python 3"
    },
    "language_info": {
      "name": "python"
    }
  },
  "cells": [
    {
      "cell_type": "markdown",
      "metadata": {
        "id": "view-in-github",
        "colab_type": "text"
      },
      "source": [
        "<a href=\"https://colab.research.google.com/github/satoicu/scraping_bs4/blob/main/scraping_bs4.ipynb\" target=\"_parent\"><img src=\"https://colab.research.google.com/assets/colab-badge.svg\" alt=\"Open In Colab\"/></a>"
      ]
    },
    {
      "cell_type": "markdown",
      "source": [
        "htmlからデータを取得するためbeautifulsoupをインストールします。\n",
        "\n",
        "beautifulsoupのドキュメントは以下のURLから確認できます。\n",
        "\n",
        "https://www.crummy.com/software/BeautifulSoup/bs4/doc/#installing-beautiful-soup"
      ],
      "metadata": {
        "id": "ntitEHbnCBFB"
      }
    },
    {
      "cell_type": "code",
      "execution_count": 2,
      "metadata": {
        "colab": {
          "base_uri": "https://localhost:8080/"
        },
        "id": "WeQJB9miBoB5",
        "outputId": "d14beb0a-9bd4-477c-e11d-0d24c3a53ca8"
      },
      "outputs": [
        {
          "output_type": "stream",
          "name": "stdout",
          "text": [
            "Requirement already satisfied: beautifulsoup4 in /usr/local/lib/python3.10/dist-packages (4.11.2)\n",
            "Requirement already satisfied: soupsieve>1.2 in /usr/local/lib/python3.10/dist-packages (from beautifulsoup4) (2.4.1)\n"
          ]
        }
      ],
      "source": [
        "!pip install beautifulsoup4"
      ]
    },
    {
      "cell_type": "markdown",
      "source": [
        "あるhtmlのソースコードが取得できたと仮定します。\n",
        "\n",
        "htmlの取得にはrequestsライブラリやseleniumを用いる方法がありますがこのノートブックでは省略します。"
      ],
      "metadata": {
        "id": "A0tCIoM7DAyc"
      }
    },
    {
      "cell_type": "code",
      "source": [
        "html = \"\"\"\n",
        "<!DOCTYPE html>\n",
        "<html lang=\"ja\">\n",
        "<head>\n",
        "    <meta charset=\"UTF-8\">\n",
        "    <meta name=\"viewport\" content=\"width=device-width, initial-scale=1.0\">\n",
        "    <title>HTML Sample</title>\n",
        "</head>\n",
        "<body>\n",
        "    <h1 class=\"main-heading\">Welcome to My Website</h1>\n",
        "\n",
        "    <p class=\"intro-text\">This is a sample HTML document that demonstrates various elements.</p>\n",
        "\n",
        "    <a href=\"https://www.example.com\" class=\"link\" id=\"link1\">Visit Example.com</a>\n",
        "    <a href=\"https://www.sample.com\" class=\"link\" id=\"link2\">Visit Sample.com</a>\n",
        "\n",
        "    <h2 class=\"section-heading\" id=\"section-heading\">Section 1</h2>\n",
        "\n",
        "    <p class=\"section-paragraph\" id=\"paragraph1\">This is the first paragraph of the section.</p>\n",
        "\n",
        "    <h2 class=\"section-heading\" id=\"section-heading2\">Section 2</h2>\n",
        "\n",
        "    <p class=\"section-paragraph\" id=\"paragraph2\">This is the second paragraph of the section.</p>\n",
        "\n",
        "    <textarea class=\"text-area\" id=\"text-area1\">This is some text in the first text area.</textarea>\n",
        "    <textarea class=\"text-area\" id=\"text-area2\">Here's some content in the second text area.</textarea>\n",
        "    <textarea class=\"text-area\" id=\"text-area3\">And this is the third text area's content.</textarea>\n",
        "\n",
        "    <table class=\"data-table\">\n",
        "        <tr>\n",
        "            <th class=\"table-header\">Header 1</th>\n",
        "            <th class=\"table-header\">Header 2</th>\n",
        "        </tr>\n",
        "        <tr>\n",
        "            <td class=\"table-cell\">Row 1, Column 1</td>\n",
        "            <td class=\"table-cell\">Row 1, Column 2</td>\n",
        "        </tr>\n",
        "        <tr>\n",
        "            <td class=\"table-cell\">Row 2, Column 1</td>\n",
        "            <td class=\"table-cell\">Row 2, Column 2</td>\n",
        "        </tr>\n",
        "        <tr>\n",
        "            <td class=\"table-cell\">Row 3, Column 1</td>\n",
        "            <td class=\"table-cell\">Row 3, Column 2</td>\n",
        "        </tr>\n",
        "    </table>\n",
        "</body>\n",
        "</html>\n",
        "\"\"\""
      ],
      "metadata": {
        "id": "vGddZA5oB3Rq"
      },
      "execution_count": 21,
      "outputs": []
    },
    {
      "cell_type": "markdown",
      "source": [
        "スクレイピングをするためhtmlテキストをbeautiful soupのオブジェクトに変換します"
      ],
      "metadata": {
        "id": "_wTS6KlYkdGc"
      }
    },
    {
      "cell_type": "code",
      "source": [
        "from bs4 import BeautifulSoup\n",
        "\n",
        "soup = BeautifulSoup(html, \"html.parser\")\n",
        "type(soup)"
      ],
      "metadata": {
        "colab": {
          "base_uri": "https://localhost:8080/"
        },
        "id": "y3XlHlOqkUdC",
        "outputId": "1cb659bf-d29a-4d66-9278-8310b31f8a6d"
      },
      "execution_count": 22,
      "outputs": [
        {
          "output_type": "execute_result",
          "data": {
            "text/plain": [
              "bs4.BeautifulSoup"
            ]
          },
          "metadata": {},
          "execution_count": 22
        }
      ]
    },
    {
      "cell_type": "markdown",
      "source": [
        "特定のタグを検索するにはfind(<tag名>）で該当するhtmlの部分を取得します。\n",
        "\n",
        "以下のコードではh1タグに相当する箇所を取得します。"
      ],
      "metadata": {
        "id": "HPhoXqDoln9M"
      }
    },
    {
      "cell_type": "code",
      "source": [
        "h1 = soup.find(\"h1\")\n",
        "h1"
      ],
      "metadata": {
        "colab": {
          "base_uri": "https://localhost:8080/"
        },
        "id": "S8pakpihlGTs",
        "outputId": "50d82c60-7028-486f-fd06-e37e28e61a24"
      },
      "execution_count": 23,
      "outputs": [
        {
          "output_type": "execute_result",
          "data": {
            "text/plain": [
              "<h1 class=\"main-heading\">Welcome to My Website</h1>"
            ]
          },
          "metadata": {},
          "execution_count": 23
        }
      ]
    },
    {
      "cell_type": "markdown",
      "source": [
        "class名で検索するにはfindにclass_を引数に与えます。"
      ],
      "metadata": {
        "id": "ByNxHUGYmN-r"
      }
    },
    {
      "cell_type": "code",
      "source": [
        "class_intro = soup.find(class_=\"intro-text\")\n",
        "class_intro"
      ],
      "metadata": {
        "colab": {
          "base_uri": "https://localhost:8080/"
        },
        "id": "mHVvYEMVl3p2",
        "outputId": "010db926-3c95-495f-d32c-c551963f1c1e"
      },
      "execution_count": 24,
      "outputs": [
        {
          "output_type": "execute_result",
          "data": {
            "text/plain": [
              "<p class=\"intro-text\">This is a sample HTML document that demonstrates various elements.</p>"
            ]
          },
          "metadata": {},
          "execution_count": 24
        }
      ]
    },
    {
      "cell_type": "markdown",
      "source": [
        "属性の値を取得するには、findで要素を取得した後、attrsで属性の値を辞書で取得できます。"
      ],
      "metadata": {
        "id": "WQEDbLQ8mzMo"
      }
    },
    {
      "cell_type": "code",
      "source": [
        "first_a = soup.find(\"a\")\n",
        "print(first_a.attrs[\"href\"])\n",
        "first_a.attrs"
      ],
      "metadata": {
        "colab": {
          "base_uri": "https://localhost:8080/"
        },
        "id": "rDCG_QnFm3lU",
        "outputId": "610f89df-1e91-4c45-89f0-4a30353126c0"
      },
      "execution_count": 25,
      "outputs": [
        {
          "output_type": "stream",
          "name": "stdout",
          "text": [
            "https://www.example.com\n"
          ]
        },
        {
          "output_type": "execute_result",
          "data": {
            "text/plain": [
              "{'href': 'https://www.example.com', 'class': ['link'], 'id': 'link1'}"
            ]
          },
          "metadata": {},
          "execution_count": 25
        }
      ]
    },
    {
      "cell_type": "markdown",
      "source": [
        "複数の条件に合致する箇所を取得するにはfind_allを用います。find_allの結果はリストです。"
      ],
      "metadata": {
        "id": "bj8oXe8wmjGs"
      }
    },
    {
      "cell_type": "code",
      "source": [
        "a_all = soup.find_all(\"a\")\n",
        "print(a_all[0])\n",
        "a_all"
      ],
      "metadata": {
        "colab": {
          "base_uri": "https://localhost:8080/"
        },
        "id": "7KpsgBplmcTc",
        "outputId": "f04044ad-241a-40be-d29e-8eadc16846eb"
      },
      "execution_count": 26,
      "outputs": [
        {
          "output_type": "stream",
          "name": "stdout",
          "text": [
            "<a class=\"link\" href=\"https://www.example.com\" id=\"link1\">Visit Example.com</a>\n"
          ]
        },
        {
          "output_type": "execute_result",
          "data": {
            "text/plain": [
              "[<a class=\"link\" href=\"https://www.example.com\" id=\"link1\">Visit Example.com</a>,\n",
              " <a class=\"link\" href=\"https://www.sample.com\" id=\"link2\">Visit Sample.com</a>]"
            ]
          },
          "metadata": {},
          "execution_count": 26
        }
      ]
    },
    {
      "cell_type": "markdown",
      "source": [
        "取得した要素のtextを表示するには、「.text」を用います。"
      ],
      "metadata": {
        "id": "NaWtUzmDoTpT"
      }
    },
    {
      "cell_type": "code",
      "source": [
        "text_area = soup.find(\"textarea\", id=\"text-area2\")\n",
        "text_area.text"
      ],
      "metadata": {
        "colab": {
          "base_uri": "https://localhost:8080/",
          "height": 35
        },
        "id": "Rp-PUsJ_oS58",
        "outputId": "c158917e-7208-4b2b-9c8d-b97b4874c9f6"
      },
      "execution_count": 27,
      "outputs": [
        {
          "output_type": "execute_result",
          "data": {
            "text/plain": [
              "\"Here's some content in the second text area.\""
            ],
            "application/vnd.google.colaboratory.intrinsic+json": {
              "type": "string"
            }
          },
          "metadata": {},
          "execution_count": 27
        }
      ]
    },
    {
      "cell_type": "markdown",
      "source": [
        "findを組み合わせて階層構造を辿ることができます。"
      ],
      "metadata": {
        "id": "BU8S_kLyn_v8"
      }
    },
    {
      "cell_type": "code",
      "source": [
        "t_value = soup.find(\"table\").find(\"tr\").find(class_=\"table-header\")\n",
        "t_value.text"
      ],
      "metadata": {
        "colab": {
          "base_uri": "https://localhost:8080/",
          "height": 35
        },
        "id": "kwl0L9Mhno2K",
        "outputId": "5f78c85a-3923-46d2-b8db-c0bff035a765"
      },
      "execution_count": 28,
      "outputs": [
        {
          "output_type": "execute_result",
          "data": {
            "text/plain": [
              "'Header 1'"
            ],
            "application/vnd.google.colaboratory.intrinsic+json": {
              "type": "string"
            }
          },
          "metadata": {},
          "execution_count": 28
        }
      ]
    },
    {
      "cell_type": "markdown",
      "source": [
        "テーブル要素を表形式で取得するにはpandasのread_htmlで取得することもできます。"
      ],
      "metadata": {
        "id": "cRiWcwjlpsei"
      }
    },
    {
      "cell_type": "code",
      "source": [
        "import pandas as pd\n",
        "\n",
        "dfs = pd.read_html(html)\n",
        "dfs[0] #pd.read_htmlの結果はリスト形式です。"
      ],
      "metadata": {
        "colab": {
          "base_uri": "https://localhost:8080/",
          "height": 143
        },
        "id": "TKlqPBHApOxo",
        "outputId": "0cd1c66f-2b68-44c4-d3f8-635fd6a8a236"
      },
      "execution_count": 37,
      "outputs": [
        {
          "output_type": "execute_result",
          "data": {
            "text/plain": [
              "          Header 1         Header 2\n",
              "0  Row 1, Column 1  Row 1, Column 2\n",
              "1  Row 2, Column 1  Row 2, Column 2\n",
              "2  Row 3, Column 1  Row 3, Column 2"
            ],
            "text/html": [
              "\n",
              "  <div id=\"df-94b436a0-0d6e-4bfb-82da-96a40c3cda53\" class=\"colab-df-container\">\n",
              "    <div>\n",
              "<style scoped>\n",
              "    .dataframe tbody tr th:only-of-type {\n",
              "        vertical-align: middle;\n",
              "    }\n",
              "\n",
              "    .dataframe tbody tr th {\n",
              "        vertical-align: top;\n",
              "    }\n",
              "\n",
              "    .dataframe thead th {\n",
              "        text-align: right;\n",
              "    }\n",
              "</style>\n",
              "<table border=\"1\" class=\"dataframe\">\n",
              "  <thead>\n",
              "    <tr style=\"text-align: right;\">\n",
              "      <th></th>\n",
              "      <th>Header 1</th>\n",
              "      <th>Header 2</th>\n",
              "    </tr>\n",
              "  </thead>\n",
              "  <tbody>\n",
              "    <tr>\n",
              "      <th>0</th>\n",
              "      <td>Row 1, Column 1</td>\n",
              "      <td>Row 1, Column 2</td>\n",
              "    </tr>\n",
              "    <tr>\n",
              "      <th>1</th>\n",
              "      <td>Row 2, Column 1</td>\n",
              "      <td>Row 2, Column 2</td>\n",
              "    </tr>\n",
              "    <tr>\n",
              "      <th>2</th>\n",
              "      <td>Row 3, Column 1</td>\n",
              "      <td>Row 3, Column 2</td>\n",
              "    </tr>\n",
              "  </tbody>\n",
              "</table>\n",
              "</div>\n",
              "    <div class=\"colab-df-buttons\">\n",
              "\n",
              "  <div class=\"colab-df-container\">\n",
              "    <button class=\"colab-df-convert\" onclick=\"convertToInteractive('df-94b436a0-0d6e-4bfb-82da-96a40c3cda53')\"\n",
              "            title=\"Convert this dataframe to an interactive table.\"\n",
              "            style=\"display:none;\">\n",
              "\n",
              "  <svg xmlns=\"http://www.w3.org/2000/svg\" height=\"24px\" viewBox=\"0 -960 960 960\">\n",
              "    <path d=\"M120-120v-720h720v720H120Zm60-500h600v-160H180v160Zm220 220h160v-160H400v160Zm0 220h160v-160H400v160ZM180-400h160v-160H180v160Zm440 0h160v-160H620v160ZM180-180h160v-160H180v160Zm440 0h160v-160H620v160Z\"/>\n",
              "  </svg>\n",
              "    </button>\n",
              "\n",
              "  <style>\n",
              "    .colab-df-container {\n",
              "      display:flex;\n",
              "      gap: 12px;\n",
              "    }\n",
              "\n",
              "    .colab-df-convert {\n",
              "      background-color: #E8F0FE;\n",
              "      border: none;\n",
              "      border-radius: 50%;\n",
              "      cursor: pointer;\n",
              "      display: none;\n",
              "      fill: #1967D2;\n",
              "      height: 32px;\n",
              "      padding: 0 0 0 0;\n",
              "      width: 32px;\n",
              "    }\n",
              "\n",
              "    .colab-df-convert:hover {\n",
              "      background-color: #E2EBFA;\n",
              "      box-shadow: 0px 1px 2px rgba(60, 64, 67, 0.3), 0px 1px 3px 1px rgba(60, 64, 67, 0.15);\n",
              "      fill: #174EA6;\n",
              "    }\n",
              "\n",
              "    .colab-df-buttons div {\n",
              "      margin-bottom: 4px;\n",
              "    }\n",
              "\n",
              "    [theme=dark] .colab-df-convert {\n",
              "      background-color: #3B4455;\n",
              "      fill: #D2E3FC;\n",
              "    }\n",
              "\n",
              "    [theme=dark] .colab-df-convert:hover {\n",
              "      background-color: #434B5C;\n",
              "      box-shadow: 0px 1px 3px 1px rgba(0, 0, 0, 0.15);\n",
              "      filter: drop-shadow(0px 1px 2px rgba(0, 0, 0, 0.3));\n",
              "      fill: #FFFFFF;\n",
              "    }\n",
              "  </style>\n",
              "\n",
              "    <script>\n",
              "      const buttonEl =\n",
              "        document.querySelector('#df-94b436a0-0d6e-4bfb-82da-96a40c3cda53 button.colab-df-convert');\n",
              "      buttonEl.style.display =\n",
              "        google.colab.kernel.accessAllowed ? 'block' : 'none';\n",
              "\n",
              "      async function convertToInteractive(key) {\n",
              "        const element = document.querySelector('#df-94b436a0-0d6e-4bfb-82da-96a40c3cda53');\n",
              "        const dataTable =\n",
              "          await google.colab.kernel.invokeFunction('convertToInteractive',\n",
              "                                                    [key], {});\n",
              "        if (!dataTable) return;\n",
              "\n",
              "        const docLinkHtml = 'Like what you see? Visit the ' +\n",
              "          '<a target=\"_blank\" href=https://colab.research.google.com/notebooks/data_table.ipynb>data table notebook</a>'\n",
              "          + ' to learn more about interactive tables.';\n",
              "        element.innerHTML = '';\n",
              "        dataTable['output_type'] = 'display_data';\n",
              "        await google.colab.output.renderOutput(dataTable, element);\n",
              "        const docLink = document.createElement('div');\n",
              "        docLink.innerHTML = docLinkHtml;\n",
              "        element.appendChild(docLink);\n",
              "      }\n",
              "    </script>\n",
              "  </div>\n",
              "\n",
              "    </div>\n",
              "  </div>\n"
            ]
          },
          "metadata": {},
          "execution_count": 37
        }
      ]
    },
    {
      "cell_type": "markdown",
      "source": [
        "padasのread_htmlがうまくいかない場合は関連ライブラリをインストールして再度試してください。"
      ],
      "metadata": {
        "id": "b8JW2MKiqDL2"
      }
    },
    {
      "cell_type": "code",
      "source": [
        "!pip install lxml\n",
        "!pip install html5lib"
      ],
      "metadata": {
        "colab": {
          "base_uri": "https://localhost:8080/"
        },
        "id": "9L1em474p4TI",
        "outputId": "a6a1c914-bdae-4442-e742-1f9a12b6ce7d"
      },
      "execution_count": 40,
      "outputs": [
        {
          "output_type": "stream",
          "name": "stdout",
          "text": [
            "Requirement already satisfied: lxml in /usr/local/lib/python3.10/dist-packages (4.9.3)\n",
            "Requirement already satisfied: html5lib in /usr/local/lib/python3.10/dist-packages (1.1)\n",
            "Requirement already satisfied: six>=1.9 in /usr/local/lib/python3.10/dist-packages (from html5lib) (1.16.0)\n",
            "Requirement already satisfied: webencodings in /usr/local/lib/python3.10/dist-packages (from html5lib) (0.5.1)\n"
          ]
        }
      ]
    }
  ]
}